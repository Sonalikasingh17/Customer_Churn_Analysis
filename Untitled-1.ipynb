{
 "cells": [
  {
   "cell_type": "code",
   "execution_count": null,
   "id": "96e84443",
   "metadata": {},
   "outputs": [],
   "source": [
    "import pandas as pd\n",
    "import numpy as np\n",
    "import matplotlib.pyplot as plt\n",
    "import seaborn as sns\n",
    "from datetime import datetime\n",
    "import warnings\n",
    "warnings.filterwarnings('ignore')"
   ]
  },
  {
   "cell_type": "code",
   "execution_count": 9,
   "id": "f337d766",
   "metadata": {},
   "outputs": [
    {
     "name": "stdout",
     "output_type": "stream",
     "text": [
      "Available sheets in the Excel file:\n",
      "- Customer_Demographics\n",
      "- Transaction_History\n",
      "- Customer_Service\n",
      "- Online_Activity\n",
      "- Churn_Status\n"
     ]
    }
   ],
   "source": [
    "# Load the Excel file and examine all sheets\n",
    "file_path = \"Customer_Churn_Data_Large.xlsx\"\n",
    "excel_file = pd.ExcelFile(file_path)\n",
    "\n",
    "print(\"Available sheets in the Excel file:\")\n",
    "for sheet in excel_file.sheet_names:\n",
    "    print(f\"- {sheet}\")"
   ]
  },
  {
   "cell_type": "code",
   "execution_count": 7,
   "id": "07e672da",
   "metadata": {},
   "outputs": [
    {
     "name": "stdout",
     "output_type": "stream",
     "text": [
      "=== DATASET OVERVIEW ===\n",
      "Customer Demographics: (1000, 5)\n",
      "Transaction History: (5054, 5)\n",
      "Customer Service: (1002, 5)\n",
      "Online Activity: (1000, 4)\n",
      "Churn Status: (1000, 2)\n"
     ]
    }
   ],
   "source": [
    "# Load all the data sheets\n",
    "file_path = \"Customer_Churn_Data_Large.xlsx\"\n",
    "\n",
    "# Read all sheets\n",
    "demographics = pd.read_excel(file_path, sheet_name='Customer_Demographics')\n",
    "transactions = pd.read_excel(file_path, sheet_name='Transaction_History')\n",
    "customer_service = pd.read_excel(file_path, sheet_name='Customer_Service')\n",
    "online_activity = pd.read_excel(file_path, sheet_name='Online_Activity')\n",
    "churn_status = pd.read_excel(file_path, sheet_name='Churn_Status')\n",
    "\n",
    "\n",
    "print(\"=== DATASET OVERVIEW ===\")\n",
    "print(f\"Customer Demographics: {demographics.shape}\")\n",
    "print(f\"Transaction History: {transactions.shape}\")\n",
    "print(f\"Customer Service: {customer_service.shape}\")\n",
    "print(f\"Online Activity: {online_activity.shape}\")\n",
    "print(f\"Churn Status: {churn_status.shape}\")"
   ]
  },
  {
   "cell_type": "code",
   "execution_count": 13,
   "id": "dcd99075",
   "metadata": {},
   "outputs": [
    {
     "name": "stdout",
     "output_type": "stream",
     "text": [
      "\n",
      "Sample of dataset:\n",
      "==================================================\n",
      "\n",
      "Demographics:\n",
      "   CustomerID  Age Gender MaritalStatus IncomeLevel\n",
      "0           1   62      M        Single         Low\n",
      "1           2   65      M       Married         Low\n",
      "2           3   18      M        Single         Low\n",
      "3           4   21      M       Widowed         Low\n",
      "4           5   21      M      Divorced      Medium\n",
      "\n",
      "Transactions:\n",
      "   CustomerID  TransactionID TransactionDate  AmountSpent ProductCategory\n",
      "0           1           7194      2022-03-27       416.50     Electronics\n",
      "1           2           7250      2022-08-08        54.96        Clothing\n",
      "2           2           9660      2022-07-25       197.50     Electronics\n",
      "3           2           2998      2022-01-25       101.31       Furniture\n",
      "4           2           1228      2022-07-24       397.37        Clothing\n",
      "\n",
      "Customer Service:\n",
      "   CustomerID  InteractionID InteractionDate InteractionType ResolutionStatus\n",
      "0           1           6363      2022-03-31         Inquiry         Resolved\n",
      "1           2           3329      2022-03-17         Inquiry         Resolved\n",
      "2           3           9976      2022-08-24         Inquiry         Resolved\n",
      "3           4           7354      2022-11-18         Inquiry         Resolved\n",
      "4           4           5393      2022-07-03         Inquiry       Unresolved\n",
      "\n",
      "Online Activity:\n",
      "   CustomerID LastLoginDate  LoginFrequency ServiceUsage\n",
      "0           1    2023-10-21              34   Mobile App\n",
      "1           2    2023-12-05               5      Website\n",
      "2           3    2023-11-15               3      Website\n",
      "3           4    2023-08-25               2      Website\n",
      "4           5    2023-10-27              41      Website\n",
      "\n",
      "Churn Status:\n",
      "   CustomerID  ChurnStatus\n",
      "0           1            0\n",
      "1           2            1\n",
      "2           3            0\n",
      "3           4            0\n",
      "4           5            0\n"
     ]
    }
   ],
   "source": [
    "print(\"\\nSample of dataset:\")\n",
    "print(\"=\"*50)\n",
    "print(\"\\nDemographics:\")\n",
    "print(demographics.head())\n",
    "print(\"\\nTransactions:\")\n",
    "print(transactions.head())\n",
    "print(\"\\nCustomer Service:\")\n",
    "print(customer_service.head())\n",
    "print(\"\\nOnline Activity:\")\n",
    "print(online_activity.head())\n",
    "print(\"\\nChurn Status:\")\n",
    "print(churn_status.head())"
   ]
  },
  {
   "cell_type": "code",
   "execution_count": 36,
   "id": "15bf7a88",
   "metadata": {},
   "outputs": [
    {
     "name": "stdout",
     "output_type": "stream",
     "text": [
      "Dataset Structure Analysis:\n",
      "==================================================\n",
      "The dataset contains 5 main sheets:\n",
      "1. Customer_Demographics - Basic customer information\n",
      "2. Transaction_History - Customer purchase behavior\n",
      "3. Customer_Service - Service interaction records\n",
      "4. Online_Activity - Digital engagement metrics\n",
      "5. Churn_Status - Target variable (0=retained, 1=churned)\n",
      "\n",
      "Data Overview:\n",
      "- Customer_Demographics: CustomerID, Age, Gender, MaritalStatus, IncomeLevel\n",
      "- Transaction_History: CustomerID, TransactionID, TransactionDate, AmountSpent, ProductCategory\n",
      "- Customer_Service: CustomerID, InteractionID, InteractionDate, InteractionType, ResolutionStatus\n",
      "- Online_Activity: CustomerID, LastLoginDate, LoginFrequency, ServiceUsage\n",
      "- Churn_Status: CustomerID, ChurnStatus (0/1)\n"
     ]
    }
   ],
   "source": [
    "print(\"Dataset Structure Analysis:\")\n",
    "print(\"=\" * 50)\n",
    "print(\"The dataset contains 5 main sheets:\")\n",
    "print(\"1. Customer_Demographics - Basic customer information\")\n",
    "print(\"2. Transaction_History - Customer purchase behavior\")  \n",
    "print(\"3. Customer_Service - Service interaction records\")\n",
    "print(\"4. Online_Activity - Digital engagement metrics\")\n",
    "print(\"5. Churn_Status - Target variable (0=retained, 1=churned)\")\n",
    "print()\n",
    "\n",
    "# Let's analyze the data structure from the provided information\n",
    "print(\"Data Overview:\")\n",
    "print(\"- Customer_Demographics: CustomerID, Age, Gender, MaritalStatus, IncomeLevel\")\n",
    "print(\"- Transaction_History: CustomerID, TransactionID, TransactionDate, AmountSpent, ProductCategory\")\n",
    "print(\"- Customer_Service: CustomerID, InteractionID, InteractionDate, InteractionType, ResolutionStatus\")\n",
    "print(\"- Online_Activity: CustomerID, LastLoginDate, LoginFrequency, ServiceUsage\")\n",
    "print(\"- Churn_Status: CustomerID, ChurnStatus (0/1)\")"
   ]
  },
  {
   "cell_type": "code",
   "execution_count": 41,
   "id": "86958bd9",
   "metadata": {},
   "outputs": [
    {
     "name": "stdout",
     "output_type": "stream",
     "text": [
      "\n",
      "=== DEMOGRAPHICS SAMPLE ===\n",
      "\n",
      "Demographics Info:\n",
      "<class 'pandas.core.frame.DataFrame'>\n",
      "RangeIndex: 1000 entries, 0 to 999\n",
      "Data columns (total 5 columns):\n",
      " #   Column         Non-Null Count  Dtype \n",
      "---  ------         --------------  ----- \n",
      " 0   CustomerID     1000 non-null   int64 \n",
      " 1   Age            1000 non-null   int64 \n",
      " 2   Gender         1000 non-null   object\n",
      " 3   MaritalStatus  1000 non-null   object\n",
      " 4   IncomeLevel    1000 non-null   object\n",
      "dtypes: int64(2), object(3)\n",
      "memory usage: 39.2+ KB\n",
      "None\n"
     ]
    }
   ],
   "source": [
    "print(\"\\n=== DEMOGRAPHICS SAMPLE ===\")\n",
    "print(f\"\\nDemographics Info:\")\n",
    "print(demographics.info())"
   ]
  },
  {
   "cell_type": "code",
   "execution_count": 38,
   "id": "2a7f069c",
   "metadata": {},
   "outputs": [
    {
     "name": "stdout",
     "output_type": "stream",
     "text": [
      "\n",
      "Missing values:\n",
      "CustomerID       0\n",
      "Age              0\n",
      "Gender           0\n",
      "MaritalStatus    0\n",
      "IncomeLevel      0\n",
      "dtype: int64\n",
      "\n",
      "Unique values per column:\n",
      "CustomerID: 1000 unique values\n",
      "Age: 52 unique values\n",
      "Gender: 2 unique values\n",
      "MaritalStatus: 4 unique values\n",
      "IncomeLevel: 3 unique values\n",
      "\n",
      "Basic statistics:\n",
      "        CustomerID          Age\n",
      "count  1000.000000  1000.000000\n",
      "mean    500.500000    43.267000\n",
      "std     288.819436    15.242311\n",
      "min       1.000000    18.000000\n",
      "25%     250.750000    30.000000\n",
      "50%     500.500000    43.000000\n",
      "75%     750.250000    56.000000\n",
      "max    1000.000000    69.000000\n",
      "\n",
      "Columns: ['CustomerID', 'Age', 'Gender', 'MaritalStatus', 'IncomeLevel']\n",
      "Memory usage: 39.19 KB\n",
      "\n"
     ]
    }
   ],
   "source": [
    "print(f\"\\nMissing values:\\n{demographics.isnull().sum()}\")\n",
    "\n",
    "print(\"\\nUnique values per column:\")\n",
    "for col in demographics.columns:\n",
    "    print(f\"{col}: {demographics[col].nunique()} unique values\")\n",
    "\n",
    "print(\"\\nBasic statistics:\")\n",
    "print(demographics.describe())\n",
    "\n",
    "print(f\"\\nColumns: {list(demographics.columns)}\")\n",
    "print(f\"Memory usage: {demographics.memory_usage().sum() / 1024:.2f} KB\\n\")\n",
    "\n"
   ]
  },
  {
   "cell_type": "code",
   "execution_count": 40,
   "id": "c0ff48c6",
   "metadata": {},
   "outputs": [
    {
     "name": "stdout",
     "output_type": "stream",
     "text": [
      "\n",
      "=== CHURN STATUS DISTRIBUTION ===\n",
      "ChurnStatus\n",
      "0    796\n",
      "1    204\n",
      "Name: count, dtype: int64\n",
      "\n",
      "Missing values:\n",
      "CustomerID         0\n",
      "TransactionID      0\n",
      "TransactionDate    0\n",
      "AmountSpent        0\n",
      "ProductCategory    0\n",
      "dtype: int64\n",
      "\n",
      "Overall churn rate: 20.40%\n"
     ]
    }
   ],
   "source": [
    "print(\"\\n=== CHURN STATUS DISTRIBUTION ===\")\n",
    "print(churn_status['ChurnStatus'].value_counts())\n",
    "print(f\"\\nMissing values:\\n{transactions.isnull().sum()}\")\n",
    "\n",
    "churn_rate = churn_status['ChurnStatus'].mean()\n",
    "print(f\"\\nOverall churn rate: {churn_rate:.2%}\")"
   ]
  },
  {
   "cell_type": "code",
   "execution_count": 47,
   "id": "ba302400",
   "metadata": {},
   "outputs": [
    {
     "name": "stdout",
     "output_type": "stream",
     "text": [
      "\n",
      "=== TRANSACTION HISTORY ===\n",
      "\n",
      "Demographics Info:\n",
      "<class 'pandas.core.frame.DataFrame'>\n",
      "RangeIndex: 1000 entries, 0 to 999\n",
      "Data columns (total 5 columns):\n",
      " #   Column         Non-Null Count  Dtype \n",
      "---  ------         --------------  ----- \n",
      " 0   CustomerID     1000 non-null   int64 \n",
      " 1   Age            1000 non-null   int64 \n",
      " 2   Gender         1000 non-null   object\n",
      " 3   MaritalStatus  1000 non-null   object\n",
      " 4   IncomeLevel    1000 non-null   object\n",
      "dtypes: int64(2), object(3)\n",
      "memory usage: 39.2+ KB\n",
      "None\n",
      "\n",
      "Missing values:\n",
      "CustomerID         0\n",
      "TransactionID      0\n",
      "TransactionDate    0\n",
      "AmountSpent        0\n",
      "ProductCategory    0\n",
      "dtype: int64\n",
      "\n",
      "Unique values per column:\n",
      "CustomerID: 1000 unique values\n",
      "TransactionID: 3864 unique values\n",
      "TransactionDate: 365 unique values\n",
      "AmountSpent: 4797 unique values\n",
      "ProductCategory: 5 unique values\n",
      "\n",
      "Columns: ['CustomerID', 'TransactionID', 'TransactionDate', 'AmountSpent', 'ProductCategory']\n",
      "Memory usage: 197.55 KB\n",
      "\n"
     ]
    }
   ],
   "source": [
    "print(\"\\n=== TRANSACTION HISTORY ===\")\n",
    "print(f\"\\nDemographics Info:\")\n",
    "print(demographics.info())\n",
    "print(f\"\\nMissing values:\\n{transactions.isnull().sum()}\")\n",
    "\n",
    "print(\"\\nUnique values per column:\")\n",
    "for col in transactions.columns:\n",
    "    print(f\"{col}: {transactions[col].nunique()} unique values\")\n",
    "\n",
    "print(f\"\\nColumns: {list(transactions.columns)}\")\n",
    "print(f\"Memory usage: {transactions.memory_usage().sum() / 1024:.2f} KB\\n\")\n"
   ]
  },
  {
   "cell_type": "code",
   "execution_count": 33,
   "id": "ba10dcf8",
   "metadata": {},
   "outputs": [
    {
     "name": "stdout",
     "output_type": "stream",
     "text": [
      "\n",
      "=== CUSTOMER SERVICE ===\n",
      "\n",
      "Data types:\n",
      "CustomerID                   int64\n",
      "InteractionID                int64\n",
      "InteractionDate     datetime64[ns]\n",
      "InteractionType             object\n",
      "ResolutionStatus            object\n",
      "dtype: object\n",
      "\n",
      "Missing values:\n",
      "CustomerID          0\n",
      "InteractionID       0\n",
      "InteractionDate     0\n",
      "InteractionType     0\n",
      "ResolutionStatus    0\n",
      "dtype: int64\n",
      "\n",
      "Columns: ['CustomerID', 'InteractionID', 'InteractionDate', 'InteractionType', 'ResolutionStatus']\n",
      "Memory usage: 39.27 KB\n",
      "\n"
     ]
    }
   ],
   "source": [
    "print(\"\\n=== CUSTOMER SERVICE ===\")\n",
    "print(f\"\\nData types:\\n{customer_service.dtypes}\")\n",
    "print(f\"\\nMissing values:\\n{customer_service.isnull().sum()}\")\n",
    "print(f\"\\nColumns: {list(customer_service.columns)}\")\n",
    "print(f\"Memory usage: {customer_service.memory_usage().sum() / 1024:.2f} KB\\n\")\n"
   ]
  },
  {
   "cell_type": "code",
   "execution_count": 34,
   "id": "58d9e6d5",
   "metadata": {},
   "outputs": [
    {
     "name": "stdout",
     "output_type": "stream",
     "text": [
      "\n",
      "=== ONLINE ACTIVITY ===\n",
      "\n",
      "Data types:\n",
      "CustomerID                 int64\n",
      "LastLoginDate     datetime64[ns]\n",
      "LoginFrequency             int64\n",
      "ServiceUsage              object\n",
      "dtype: object\n",
      "\n",
      "Missing values:\n",
      "CustomerID        0\n",
      "LastLoginDate     0\n",
      "LoginFrequency    0\n",
      "ServiceUsage      0\n",
      "dtype: int64\n",
      "\n",
      "Columns: ['CustomerID', 'LastLoginDate', 'LoginFrequency', 'ServiceUsage']\n",
      "Memory usage: 31.38 KB\n",
      "\n"
     ]
    }
   ],
   "source": [
    "print(\"\\n=== ONLINE ACTIVITY ===\")\n",
    "print(f\"\\nData types:\\n{online_activity.dtypes}\")\n",
    "print(f\"\\nMissing values:\\n{online_activity.isnull().sum()}\")\n",
    "print(f\"\\nColumns: {list(online_activity.columns)}\")\n",
    "print(f\"Memory usage: {online_activity.memory_usage().sum() / 1024:.2f} KB\\n\")"
   ]
  },
  {
   "cell_type": "code",
   "execution_count": null,
   "id": "3ef95bc5",
   "metadata": {},
   "outputs": [],
   "source": []
  }
 ],
 "metadata": {
  "kernelspec": {
   "display_name": "Python 3",
   "language": "python",
   "name": "python3"
  },
  "language_info": {
   "codemirror_mode": {
    "name": "ipython",
    "version": 3
   },
   "file_extension": ".py",
   "mimetype": "text/x-python",
   "name": "python",
   "nbconvert_exporter": "python",
   "pygments_lexer": "ipython3",
   "version": "3.8.20"
  }
 },
 "nbformat": 4,
 "nbformat_minor": 5
}
